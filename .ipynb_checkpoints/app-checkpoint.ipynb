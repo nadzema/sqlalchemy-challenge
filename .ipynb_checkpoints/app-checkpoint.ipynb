{
 "cells": [
  {
   "cell_type": "code",
   "execution_count": 1,
   "metadata": {},
   "outputs": [],
   "source": [
    "from flask import Flask, jsonify\n",
    "import numpy as np\n",
    "import pandas as pd\n",
    "import datetime as dt\n",
    "import sqlalchemy\n",
    "# Python SQL toolkit and Object Relational Mapper\n",
    "from sqlalchemy.ext.automap import automap_base\n",
    "from sqlalchemy.orm import Session\n",
    "from sqlalchemy import create_engine, func, inspect, desc\n",
    "import matplotlib.pyplot as plt"
   ]
  },
  {
   "cell_type": "code",
   "execution_count": 2,
   "metadata": {},
   "outputs": [],
   "source": [
    "# create engine to hawaii.sqlite\n",
    "engine = create_engine(\"sqlite:///Resources/hawaii.sqlite\")"
   ]
  },
  {
   "cell_type": "code",
   "execution_count": 3,
   "metadata": {},
   "outputs": [],
   "source": [
    "# reflect an existing database into a new model\n",
    "Database = automap_base()"
   ]
  },
  {
   "cell_type": "code",
   "execution_count": 4,
   "metadata": {},
   "outputs": [],
   "source": [
    "# reflect the tables\n",
    "Database.prepare(engine, reflect=True)"
   ]
  },
  {
   "cell_type": "code",
   "execution_count": 5,
   "metadata": {},
   "outputs": [
    {
     "data": {
      "text/plain": [
       "['measurement', 'station']"
      ]
     },
     "execution_count": 5,
     "metadata": {},
     "output_type": "execute_result"
    }
   ],
   "source": [
    "# View all of the classes that automap found\n",
    "Database.classes.keys()"
   ]
  },
  {
   "cell_type": "code",
   "execution_count": 6,
   "metadata": {},
   "outputs": [],
   "source": [
    "# Save references to each table\n",
    "Measurement = Database.classes.measurement\n",
    "Station = Database.classes.station"
   ]
  },
  {
   "cell_type": "code",
   "execution_count": 7,
   "metadata": {},
   "outputs": [],
   "source": [
    "# Create our session (link) from Python to the DB\n",
    "session = Session(bind=engine)\n",
    "inspector = inspect(engine)"
   ]
  },
  {
   "cell_type": "code",
   "execution_count": 8,
   "metadata": {},
   "outputs": [
    {
     "data": {
      "text/plain": [
       "[{'name': 'id',\n",
       "  'type': INTEGER(),\n",
       "  'nullable': False,\n",
       "  'default': None,\n",
       "  'autoincrement': 'auto',\n",
       "  'primary_key': 1},\n",
       " {'name': 'station',\n",
       "  'type': TEXT(),\n",
       "  'nullable': True,\n",
       "  'default': None,\n",
       "  'autoincrement': 'auto',\n",
       "  'primary_key': 0},\n",
       " {'name': 'date',\n",
       "  'type': TEXT(),\n",
       "  'nullable': True,\n",
       "  'default': None,\n",
       "  'autoincrement': 'auto',\n",
       "  'primary_key': 0},\n",
       " {'name': 'prcp',\n",
       "  'type': FLOAT(),\n",
       "  'nullable': True,\n",
       "  'default': None,\n",
       "  'autoincrement': 'auto',\n",
       "  'primary_key': 0},\n",
       " {'name': 'tobs',\n",
       "  'type': FLOAT(),\n",
       "  'nullable': True,\n",
       "  'default': None,\n",
       "  'autoincrement': 'auto',\n",
       "  'primary_key': 0}]"
      ]
     },
     "execution_count": 8,
     "metadata": {},
     "output_type": "execute_result"
    }
   ],
   "source": [
    "inspector.get_columns('measurement')"
   ]
  },
  {
   "cell_type": "code",
   "execution_count": 9,
   "metadata": {},
   "outputs": [],
   "source": [
    "app = Flask(__name__)"
   ]
  },
  {
   "cell_type": "code",
   "execution_count": 10,
   "metadata": {},
   "outputs": [],
   "source": [
    "@app.route(\"/\")\n",
    "def page():\n",
    "   return (\n",
    "       f\"/api/v1.0/precipitation<br/>\"\n",
    "       f\"/api/v1.0/stations<br/>\"\n",
    "       f\"/api/v1.0/tobs<br/>\"\n",
    "       f\"/api/v1.0/<start><br/>\"\n",
    "       f\"/api/v1.0/<start>/<end><br/>\"\n",
    ") "
   ]
  },
  {
   "cell_type": "code",
   "execution_count": 11,
   "metadata": {},
   "outputs": [],
   "source": [
    "@app.route(\"/api/v1.0/precipitation\")\n",
    "def precip():\n",
    "    \n",
    "    session = Session(bind=engine)\n",
    "    \n",
    "    # STEP 1: Starting from the most recent data point in the database. \n",
    "    recent_date = session.query(Measurement.date).order_by(Measurement.date.desc()).first()\n",
    "    \n",
    "    # STEP 2: Calculate the date one year from the last date in data set.\n",
    "    twelvemo = dt.datetime.strptime(recent_date[0],'%Y-%m-%d') - dt.timedelta(days=365)\n",
    "\n",
    "    # STEP 3: Perform a query to retrieve the data and precipitation scores\n",
    "    precip12mo = session.query(Measurement.date, Measurement.prcp).filter(Measurement.date > twelvemo).all()\n",
    "    \n",
    "    \n",
    "    # STEP 4: Save the query results as a Pandas DataFrame and set the index to the date column\n",
    "    precip_df = pd.DataFrame(precip12mo, columns = ['date', 'prcp'])\n",
    "\n",
    "\n",
    "    # STEP 5: Sort the dataframe by date\n",
    "    precip_df.set_index('date').sort_values('date', ascending=False)\n",
    "   \n",
    "    #Step 5b: Find max precipitation within twelve months\n",
    "    prec_max = max(precip_df['prcp'])\n",
    "    \n",
    "    #Step 5c: For loop each output with Year-Month\n",
    "    year_month = []\n",
    "    for date in precip_df['date']:\n",
    "        year_month.append(date[0:7])\n",
    "    precip_df ['year_month'] = year_month\n",
    "   \n",
    "    #append a  list to return jsonify\n",
    "    precip_json = []\n",
    "    for date, prcp in precip12mo:\n",
    "        precip_dict = {date: prcp}\n",
    "        precip_json.append(precip_dict)\n",
    "    return jsonify(precip_json)\n",
    "\n",
    "    session.close()"
   ]
  },
  {
   "cell_type": "code",
   "execution_count": 12,
   "metadata": {},
   "outputs": [],
   "source": [
    "@app.route\n",
    "def station():\n",
    "    session = Session(bind=engine)\n",
    "    station_json = []\n",
    "    active_stations = session.query(Station.name).all()\n",
    "    \n",
    "    for place in active_stations:\n",
    "        station_json.append(place)\n",
    "        \n",
    "    return jsonify(station_json)\n",
    "    \n",
    "    session.close()"
   ]
  },
  {
   "cell_type": "code",
   "execution_count": 16,
   "metadata": {},
   "outputs": [],
   "source": [
    "@app.route(\"/api/v1.0/tobs\")\n",
    "def tobs():\n",
    "    session = Session(bind=engine)\n",
    "    \n",
    "    active_stations = session.query(Measurement.station, func.count(Measurement.station)).group_by(Measurement.station).order_by(func.count(Measurement.station).desc()).all()\n",
    "    active_id = active_stations[0][0]\n",
    "    name_station = session.query(Station.name).filter_by(station = active_id)\n",
    "    year_temp = session.query(Measurement.date, Measurement.tobs).filter(Measurement.station == active_id).filter(Measurement.date > twelvemo).order_by(Measurement.date).all()\n",
    "    \n",
    "    active_stations_json = []\n",
    "    \n",
    "    for date, tobs in year_temp:\n",
    "        tobs_dict = {date: tobs}\n",
    "        active_stations_json.append(tobs_dict)\n",
    "    return jsonify(active_stations_json)\n",
    "    \n",
    "    session.close()"
   ]
  },
  {
   "cell_type": "code",
   "execution_count": 17,
   "metadata": {},
   "outputs": [],
   "source": [
    "@app.route(\"/api/v1.0/<start>\")\n",
    "def start():\n",
    "    \n",
    "    session = Session(bind=engine)\n",
    "    \n",
    "    start = '2011-05-06'\n",
    "    end = '2016-05-23'\n",
    "    \n",
    "    min_date = session.query(func.min(Measurement.tobs)).filter(Measurement.date>=start).all()[0][0]\n",
    "    \n",
    "    max_date = session.query(func.max(Measurement.tobs)).filter(Measurement.date>=start).all()[0][0]\n",
    "    \n",
    "    avg_date = session.query(func.avg(Measurement.tobs)).filter(Measurement.date>=start).all()[0][0]\n",
    "    \n",
    "    calc_date_dict = {'Min Temp':min_date, 'Max Temp':max_date, 'Avg Temp':avg_date}\n",
    "    \n",
    "    return jsonify(calc_date_dict)\n",
    "\n",
    "    session.close()"
   ]
  },
  {
   "cell_type": "code",
   "execution_count": 18,
   "metadata": {},
   "outputs": [],
   "source": [
    "@app.route(\"/api/v1.0/<start>/<end>\")\n",
    "def start_end():\n",
    "    \n",
    "    session = Session(bind=engine)\n",
    "    \n",
    "    start = '2011-05-06'\n",
    "    end = '2016-05-23'\n",
    "    \n",
    "    min_date = session.query(func.min(Measurement.tobs)).filter(Measurement.date>=start).filter(Measurement.date<=end).all()[0][0]\n",
    "    \n",
    "    max_date = session.query(func.max(Measurement.tobs)).filter(Measurement.date>=start).filter(Measurement.date<=end).all()[0][0]\n",
    "    \n",
    "    avg_date = session.query(func.avg(Measurement.tobs)).filter(Measurement.date>=start).filter(Measurement.date<=end).all()[0][0]\n",
    "    \n",
    "    calc_date_dict = {'Min Temp':min_date, 'Max Temp':max_date, 'Avg Temp':avg_date}\n",
    "    \n",
    "    return jsonify(calc_date_dict)\n",
    "\n",
    "    session.close()"
   ]
  },
  {
   "cell_type": "code",
   "execution_count": 19,
   "metadata": {},
   "outputs": [
    {
     "name": "stdout",
     "output_type": "stream",
     "text": [
      " * Serving Flask app \"__main__\" (lazy loading)\n",
      " * Environment: production\n",
      "   WARNING: This is a development server. Do not use it in a production deployment.\n",
      "   Use a production WSGI server instead.\n",
      " * Debug mode: on\n"
     ]
    },
    {
     "name": "stderr",
     "output_type": "stream",
     "text": [
      " * Restarting with windowsapi reloader\n"
     ]
    },
    {
     "ename": "SystemExit",
     "evalue": "1",
     "output_type": "error",
     "traceback": [
      "An exception has occurred, use %tb to see the full traceback.\n",
      "\u001b[1;31mSystemExit\u001b[0m\u001b[1;31m:\u001b[0m 1\n"
     ]
    },
    {
     "name": "stderr",
     "output_type": "stream",
     "text": [
      "C:\\Users\\nadzema\\anaconda3\\lib\\site-packages\\IPython\\core\\interactiveshell.py:3426: UserWarning: To exit: use 'exit', 'quit', or Ctrl-D.\n",
      "  warn(\"To exit: use 'exit', 'quit', or Ctrl-D.\", stacklevel=1)\n"
     ]
    }
   ],
   "source": [
    "if __name__ == '__main__':\n",
    "    app.run(debug=True)"
   ]
  },
  {
   "cell_type": "code",
   "execution_count": null,
   "metadata": {},
   "outputs": [],
   "source": []
  }
 ],
 "metadata": {
  "kernelspec": {
   "display_name": "Python 3",
   "language": "python",
   "name": "python3"
  },
  "language_info": {
   "codemirror_mode": {
    "name": "ipython",
    "version": 3
   },
   "file_extension": ".py",
   "mimetype": "text/x-python",
   "name": "python",
   "nbconvert_exporter": "python",
   "pygments_lexer": "ipython3",
   "version": "3.8.5"
  }
 },
 "nbformat": 4,
 "nbformat_minor": 4
}
